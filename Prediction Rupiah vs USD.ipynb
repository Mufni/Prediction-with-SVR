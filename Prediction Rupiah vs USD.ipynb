{
 "cells": [
  {
   "cell_type": "markdown",
   "metadata": {},
   "source": [
    "# DATA COLLECTION"
   ]
  },
  {
   "cell_type": "code",
   "execution_count": 14,
   "metadata": {},
   "outputs": [
    {
     "data": {
      "text/html": [
       "<div>\n",
       "<style scoped>\n",
       "    .dataframe tbody tr th:only-of-type {\n",
       "        vertical-align: middle;\n",
       "    }\n",
       "\n",
       "    .dataframe tbody tr th {\n",
       "        vertical-align: top;\n",
       "    }\n",
       "\n",
       "    .dataframe thead th {\n",
       "        text-align: right;\n",
       "    }\n",
       "</style>\n",
       "<table border=\"1\" class=\"dataframe\">\n",
       "  <thead>\n",
       "    <tr style=\"text-align: right;\">\n",
       "      <th></th>\n",
       "      <th>Close</th>\n",
       "      <th>Open</th>\n",
       "      <th>High</th>\n",
       "      <th>Low</th>\n",
       "      <th>Change</th>\n",
       "    </tr>\n",
       "    <tr>\n",
       "      <th>Date</th>\n",
       "      <th></th>\n",
       "      <th></th>\n",
       "      <th></th>\n",
       "      <th></th>\n",
       "      <th></th>\n",
       "    </tr>\n",
       "  </thead>\n",
       "  <tbody>\n",
       "    <tr>\n",
       "      <th>3/5/1998</th>\n",
       "      <td>9300.0</td>\n",
       "      <td>8100.0</td>\n",
       "      <td>10100.0</td>\n",
       "      <td>8000.0</td>\n",
       "      <td>0.1517</td>\n",
       "    </tr>\n",
       "    <tr>\n",
       "      <th>10/5/1998</th>\n",
       "      <td>10700.0</td>\n",
       "      <td>9800.0</td>\n",
       "      <td>12300.0</td>\n",
       "      <td>9500.0</td>\n",
       "      <td>0.1505</td>\n",
       "    </tr>\n",
       "    <tr>\n",
       "      <th>17/05/1998</th>\n",
       "      <td>11850.0</td>\n",
       "      <td>11200.0</td>\n",
       "      <td>14500.0</td>\n",
       "      <td>10500.0</td>\n",
       "      <td>0.1075</td>\n",
       "    </tr>\n",
       "    <tr>\n",
       "      <th>24/05/1998</th>\n",
       "      <td>11450.0</td>\n",
       "      <td>11500.0</td>\n",
       "      <td>11950.0</td>\n",
       "      <td>10000.0</td>\n",
       "      <td>-0.0338</td>\n",
       "    </tr>\n",
       "    <tr>\n",
       "      <th>31/05/1998</th>\n",
       "      <td>11700.0</td>\n",
       "      <td>11350.0</td>\n",
       "      <td>11970.0</td>\n",
       "      <td>10400.0</td>\n",
       "      <td>0.0218</td>\n",
       "    </tr>\n",
       "  </tbody>\n",
       "</table>\n",
       "</div>"
      ],
      "text/plain": [
       "              Close     Open     High      Low  Change\n",
       "Date                                                  \n",
       "3/5/1998     9300.0   8100.0  10100.0   8000.0  0.1517\n",
       "10/5/1998   10700.0   9800.0  12300.0   9500.0  0.1505\n",
       "17/05/1998  11850.0  11200.0  14500.0  10500.0  0.1075\n",
       "24/05/1998  11450.0  11500.0  11950.0  10000.0 -0.0338\n",
       "31/05/1998  11700.0  11350.0  11970.0  10400.0  0.0218"
      ]
     },
     "execution_count": 14,
     "metadata": {},
     "output_type": "execute_result"
    }
   ],
   "source": [
    "import numpy as np #untuk mengolah angka \n",
    "import pandas as pd #untuk mengolah tabel\n",
    "import matplotlib.pyplot as plt\n",
    "from scipy import stats\n",
    "from scipy.stats import norm, skew\n",
    "import seaborn as sns\n",
    "\n",
    "color = sns.color_palette()\n",
    "sns.set_style('darkgrid')\n",
    "\n",
    "kurs = pd.read_csv('USD_IDR (Weekly).csv', index_col='Date') #membaca dataset dengan atribut 'Date' sebagai index awal\n",
    "kurs = kurs[::-1] #untuk mereserve data\n",
    "kurs.head()"
   ]
  },
  {
   "cell_type": "markdown",
   "metadata": {},
   "source": [
    "# DATA PREPROCESSING"
   ]
  },
  {
   "cell_type": "code",
   "execution_count": 15,
   "metadata": {},
   "outputs": [
    {
     "data": {
      "text/html": [
       "<div>\n",
       "<style scoped>\n",
       "    .dataframe tbody tr th:only-of-type {\n",
       "        vertical-align: middle;\n",
       "    }\n",
       "\n",
       "    .dataframe tbody tr th {\n",
       "        vertical-align: top;\n",
       "    }\n",
       "\n",
       "    .dataframe thead th {\n",
       "        text-align: right;\n",
       "    }\n",
       "</style>\n",
       "<table border=\"1\" class=\"dataframe\">\n",
       "  <thead>\n",
       "    <tr style=\"text-align: right;\">\n",
       "      <th></th>\n",
       "      <th>Close</th>\n",
       "      <th>Open</th>\n",
       "      <th>High</th>\n",
       "      <th>Low</th>\n",
       "      <th>Change</th>\n",
       "      <th>Close_t1</th>\n",
       "    </tr>\n",
       "    <tr>\n",
       "      <th>Date</th>\n",
       "      <th></th>\n",
       "      <th></th>\n",
       "      <th></th>\n",
       "      <th></th>\n",
       "      <th></th>\n",
       "      <th></th>\n",
       "    </tr>\n",
       "  </thead>\n",
       "  <tbody>\n",
       "    <tr>\n",
       "      <th>3/5/1998</th>\n",
       "      <td>9300.0</td>\n",
       "      <td>8100.0</td>\n",
       "      <td>10100.0</td>\n",
       "      <td>8000.0</td>\n",
       "      <td>0.1517</td>\n",
       "      <td>9300.0</td>\n",
       "    </tr>\n",
       "    <tr>\n",
       "      <th>10/5/1998</th>\n",
       "      <td>10700.0</td>\n",
       "      <td>9800.0</td>\n",
       "      <td>12300.0</td>\n",
       "      <td>9500.0</td>\n",
       "      <td>0.1505</td>\n",
       "      <td>10700.0</td>\n",
       "    </tr>\n",
       "    <tr>\n",
       "      <th>17/05/1998</th>\n",
       "      <td>11850.0</td>\n",
       "      <td>11200.0</td>\n",
       "      <td>14500.0</td>\n",
       "      <td>10500.0</td>\n",
       "      <td>0.1075</td>\n",
       "      <td>11850.0</td>\n",
       "    </tr>\n",
       "    <tr>\n",
       "      <th>24/05/1998</th>\n",
       "      <td>11450.0</td>\n",
       "      <td>11500.0</td>\n",
       "      <td>11950.0</td>\n",
       "      <td>10000.0</td>\n",
       "      <td>-0.0338</td>\n",
       "      <td>11450.0</td>\n",
       "    </tr>\n",
       "    <tr>\n",
       "      <th>31/05/1998</th>\n",
       "      <td>11700.0</td>\n",
       "      <td>11350.0</td>\n",
       "      <td>11970.0</td>\n",
       "      <td>10400.0</td>\n",
       "      <td>0.0218</td>\n",
       "      <td>11700.0</td>\n",
       "    </tr>\n",
       "  </tbody>\n",
       "</table>\n",
       "</div>"
      ],
      "text/plain": [
       "              Close     Open     High      Low  Change  Close_t1\n",
       "Date                                                            \n",
       "3/5/1998     9300.0   8100.0  10100.0   8000.0  0.1517    9300.0\n",
       "10/5/1998   10700.0   9800.0  12300.0   9500.0  0.1505   10700.0\n",
       "17/05/1998  11850.0  11200.0  14500.0  10500.0  0.1075   11850.0\n",
       "24/05/1998  11450.0  11500.0  11950.0  10000.0 -0.0338   11450.0\n",
       "31/05/1998  11700.0  11350.0  11970.0  10400.0  0.0218   11700.0"
      ]
     },
     "execution_count": 15,
     "metadata": {},
     "output_type": "execute_result"
    }
   ],
   "source": [
    "kurs['Close_t1'] = kurs['Close'] #untuk menambahkan kolom Close_t1 \n",
    "kurs.head()"
   ]
  },
  {
   "cell_type": "code",
   "execution_count": 16,
   "metadata": {},
   "outputs": [
    {
     "data": {
      "text/html": [
       "<div>\n",
       "<style scoped>\n",
       "    .dataframe tbody tr th:only-of-type {\n",
       "        vertical-align: middle;\n",
       "    }\n",
       "\n",
       "    .dataframe tbody tr th {\n",
       "        vertical-align: top;\n",
       "    }\n",
       "\n",
       "    .dataframe thead th {\n",
       "        text-align: right;\n",
       "    }\n",
       "</style>\n",
       "<table border=\"1\" class=\"dataframe\">\n",
       "  <thead>\n",
       "    <tr style=\"text-align: right;\">\n",
       "      <th></th>\n",
       "      <th>Close</th>\n",
       "      <th>Open</th>\n",
       "      <th>High</th>\n",
       "      <th>Low</th>\n",
       "      <th>Change</th>\n",
       "      <th>Close_t1</th>\n",
       "    </tr>\n",
       "    <tr>\n",
       "      <th>Date</th>\n",
       "      <th></th>\n",
       "      <th></th>\n",
       "      <th></th>\n",
       "      <th></th>\n",
       "      <th></th>\n",
       "      <th></th>\n",
       "    </tr>\n",
       "  </thead>\n",
       "  <tbody>\n",
       "    <tr>\n",
       "      <th>3/5/1998</th>\n",
       "      <td>NaN</td>\n",
       "      <td>NaN</td>\n",
       "      <td>NaN</td>\n",
       "      <td>NaN</td>\n",
       "      <td>NaN</td>\n",
       "      <td>9300.0</td>\n",
       "    </tr>\n",
       "    <tr>\n",
       "      <th>10/5/1998</th>\n",
       "      <td>9300.0</td>\n",
       "      <td>8100.0</td>\n",
       "      <td>10100.0</td>\n",
       "      <td>8000.0</td>\n",
       "      <td>0.1517</td>\n",
       "      <td>10700.0</td>\n",
       "    </tr>\n",
       "    <tr>\n",
       "      <th>17/05/1998</th>\n",
       "      <td>10700.0</td>\n",
       "      <td>9800.0</td>\n",
       "      <td>12300.0</td>\n",
       "      <td>9500.0</td>\n",
       "      <td>0.1505</td>\n",
       "      <td>11850.0</td>\n",
       "    </tr>\n",
       "    <tr>\n",
       "      <th>24/05/1998</th>\n",
       "      <td>11850.0</td>\n",
       "      <td>11200.0</td>\n",
       "      <td>14500.0</td>\n",
       "      <td>10500.0</td>\n",
       "      <td>0.1075</td>\n",
       "      <td>11450.0</td>\n",
       "    </tr>\n",
       "    <tr>\n",
       "      <th>31/05/1998</th>\n",
       "      <td>11450.0</td>\n",
       "      <td>11500.0</td>\n",
       "      <td>11950.0</td>\n",
       "      <td>10000.0</td>\n",
       "      <td>-0.0338</td>\n",
       "      <td>11700.0</td>\n",
       "    </tr>\n",
       "  </tbody>\n",
       "</table>\n",
       "</div>"
      ],
      "text/plain": [
       "              Close     Open     High      Low  Change  Close_t1\n",
       "Date                                                            \n",
       "3/5/1998        NaN      NaN      NaN      NaN     NaN    9300.0\n",
       "10/5/1998    9300.0   8100.0  10100.0   8000.0  0.1517   10700.0\n",
       "17/05/1998  10700.0   9800.0  12300.0   9500.0  0.1505   11850.0\n",
       "24/05/1998  11850.0  11200.0  14500.0  10500.0  0.1075   11450.0\n",
       "31/05/1998  11450.0  11500.0  11950.0  10000.0 -0.0338   11700.0"
      ]
     },
     "execution_count": 16,
     "metadata": {},
     "output_type": "execute_result"
    }
   ],
   "source": [
    "## Penggeseran kolom ke bawah (except kolom Close_t1) \n",
    "kurs['Close'] = kurs['Close'].shift(1)\n",
    "kurs['Open'] = kurs['Open'].shift(1, axis = 0) \n",
    "kurs['High'] = kurs['High'].shift(1, axis = 0) \n",
    "kurs['Low'] = kurs['Low'].shift(1, axis = 0)\n",
    "kurs['Change'] = kurs['Change'].shift(1, axis = 0) \n",
    "kurs.head()"
   ]
  },
  {
   "cell_type": "code",
   "execution_count": 17,
   "metadata": {},
   "outputs": [
    {
     "data": {
      "text/html": [
       "<div>\n",
       "<style scoped>\n",
       "    .dataframe tbody tr th:only-of-type {\n",
       "        vertical-align: middle;\n",
       "    }\n",
       "\n",
       "    .dataframe tbody tr th {\n",
       "        vertical-align: top;\n",
       "    }\n",
       "\n",
       "    .dataframe thead th {\n",
       "        text-align: right;\n",
       "    }\n",
       "</style>\n",
       "<table border=\"1\" class=\"dataframe\">\n",
       "  <thead>\n",
       "    <tr style=\"text-align: right;\">\n",
       "      <th></th>\n",
       "      <th>Close</th>\n",
       "      <th>Open</th>\n",
       "      <th>High</th>\n",
       "      <th>Low</th>\n",
       "      <th>Change</th>\n",
       "      <th>Close_t1</th>\n",
       "    </tr>\n",
       "    <tr>\n",
       "      <th>Date</th>\n",
       "      <th></th>\n",
       "      <th></th>\n",
       "      <th></th>\n",
       "      <th></th>\n",
       "      <th></th>\n",
       "      <th></th>\n",
       "    </tr>\n",
       "  </thead>\n",
       "  <tbody>\n",
       "    <tr>\n",
       "      <th>10/5/1998</th>\n",
       "      <td>9300.0</td>\n",
       "      <td>8100.0</td>\n",
       "      <td>10100.0</td>\n",
       "      <td>8000.0</td>\n",
       "      <td>0.1517</td>\n",
       "      <td>10700.0</td>\n",
       "    </tr>\n",
       "    <tr>\n",
       "      <th>17/05/1998</th>\n",
       "      <td>10700.0</td>\n",
       "      <td>9800.0</td>\n",
       "      <td>12300.0</td>\n",
       "      <td>9500.0</td>\n",
       "      <td>0.1505</td>\n",
       "      <td>11850.0</td>\n",
       "    </tr>\n",
       "    <tr>\n",
       "      <th>24/05/1998</th>\n",
       "      <td>11850.0</td>\n",
       "      <td>11200.0</td>\n",
       "      <td>14500.0</td>\n",
       "      <td>10500.0</td>\n",
       "      <td>0.1075</td>\n",
       "      <td>11450.0</td>\n",
       "    </tr>\n",
       "    <tr>\n",
       "      <th>31/05/1998</th>\n",
       "      <td>11450.0</td>\n",
       "      <td>11500.0</td>\n",
       "      <td>11950.0</td>\n",
       "      <td>10000.0</td>\n",
       "      <td>-0.0338</td>\n",
       "      <td>11700.0</td>\n",
       "    </tr>\n",
       "    <tr>\n",
       "      <th>7/6/1998</th>\n",
       "      <td>11700.0</td>\n",
       "      <td>11350.0</td>\n",
       "      <td>11970.0</td>\n",
       "      <td>10400.0</td>\n",
       "      <td>0.0218</td>\n",
       "      <td>14300.0</td>\n",
       "    </tr>\n",
       "  </tbody>\n",
       "</table>\n",
       "</div>"
      ],
      "text/plain": [
       "              Close     Open     High      Low  Change  Close_t1\n",
       "Date                                                            \n",
       "10/5/1998    9300.0   8100.0  10100.0   8000.0  0.1517   10700.0\n",
       "17/05/1998  10700.0   9800.0  12300.0   9500.0  0.1505   11850.0\n",
       "24/05/1998  11850.0  11200.0  14500.0  10500.0  0.1075   11450.0\n",
       "31/05/1998  11450.0  11500.0  11950.0  10000.0 -0.0338   11700.0\n",
       "7/6/1998    11700.0  11350.0  11970.0  10400.0  0.0218   14300.0"
      ]
     },
     "execution_count": 17,
     "metadata": {},
     "output_type": "execute_result"
    }
   ],
   "source": [
    "#Penghapusan baris teratas yang bernilai NaN\n",
    "kurs = kurs.dropna()\n",
    "kurs.head()"
   ]
  },
  {
   "cell_type": "markdown",
   "metadata": {},
   "source": [
    "## Data Scaling"
   ]
  },
  {
   "cell_type": "code",
   "execution_count": 18,
   "metadata": {},
   "outputs": [],
   "source": [
    "from sklearn.preprocessing import MinMaxScaler\n",
    "\n",
    "scaler = MinMaxScaler(feature_range=(0, 1))\n",
    "kurs = scaler.fit_transform(kurs) "
   ]
  },
  {
   "cell_type": "markdown",
   "metadata": {},
   "source": [
    "## Data  Splitting"
   ]
  },
  {
   "cell_type": "code",
   "execution_count": 19,
   "metadata": {},
   "outputs": [],
   "source": [
    "x = kurs[:,0:5]\n",
    "y = kurs[:,5]"
   ]
  },
  {
   "cell_type": "markdown",
   "metadata": {},
   "source": [
    "## Launch Model"
   ]
  },
  {
   "cell_type": "code",
   "execution_count": 20,
   "metadata": {},
   "outputs": [],
   "source": [
    "import time\n",
    "from sklearn.metrics import mean_absolute_error\n",
    "from sklearn.svm import SVR\n",
    "from sklearn.model_selection import KFold\n",
    "from math import sqrt\n",
    "from sklearn.metrics import mean_squared_error #untuk mengukur error \n",
    "from sklearn.metrics import r2_score\n",
    "\n",
    "\n",
    "def launch_model(name, model, x_train, y_train, x_test, y_test):\n",
    "    start = time.time()\n",
    "    \n",
    "    scores = []\n",
    "    #best_svr = SVR(kernel='rbf', gamma = 'auto', C = 1000, epsilon = 0.000001)\n",
    "\n",
    "    cv = KFold(n_splits= 10 , random_state=42, shuffle=False)\n",
    "\n",
    "    for train_index, test_index in cv.split(x):\n",
    "        \n",
    "        x_train, x_test, y_train, y_test = x[train_index], x[test_index], y[train_index], y[test_index]\n",
    "        model.fit(x_train, y_train)\n",
    "        scores.append(model.score(x_test, y_test)*100)\n",
    "        #scores.append(best_svr.score(x_test, y_test))  \n",
    "    \n",
    "    #model.fit(x_train, y_train)\n",
    "    \n",
    "    y_pred = model.predict(x_test)\n",
    "    ypred_train = model.predict(x_train)\n",
    "    \n",
    "    rmse_train = sqrt(mean_squared_error(y_train, ypred_train))*100\n",
    "    rmse_test = sqrt(mean_squared_error(y_test, y_pred))*100\n",
    "    \n",
    "    print('RMSE train = %.2f%%' % round(rmse_train,2))\n",
    "    print('RMSE test = %.2f%%' % round(rmse_test,2))\n",
    "    \n",
    "    r2_train = np.mean(scores)\n",
    "    r2_test = r2_score(y_test, y_pred)*100\n",
    "    \n",
    "    print('R2 Train = %.2f%%' % round(r2_train,2))\n",
    "    print('R2 Test = %.2f%%' % round(r2_test,2))\n",
    "    print('Waktu Training: {0:.2f} detik.'.format(time.time() - start))\n",
    "    return name + '($R^2={:.2f}$)''%'.format(r2_test) ,np.array(y_test), y_pred"
   ]
  },
  {
   "cell_type": "markdown",
   "metadata": {},
   "source": [
    "## Visualization"
   ]
  },
  {
   "cell_type": "code",
   "execution_count": 21,
   "metadata": {},
   "outputs": [],
   "source": [
    "def plot(results):\n",
    "    '''\n",
    "    Create a plot comparing multiple learners.\n",
    "    `results` is a list of tuples containing:\n",
    "        (title, expected values, actual values)\n",
    "    \n",
    "    All the elements in results will be plotted.\n",
    "    '''\n",
    "\n",
    "    # Using subplots to display the results on the same X axis\n",
    "    fig, plts = plt.subplots(nrows=len(results), figsize=(8, 8))\n",
    "    fig.canvas.set_window_title('Predicting Currency')\n",
    "\n",
    "    # Show each element in the plots returned from plt.subplots()\n",
    "    for subplot, (title, y, y_pred) in zip(plts, results):\n",
    "        # Configure each subplot to have no tick marks\n",
    "        # (these are meaningless for the sample dataset)\n",
    "        subplot.set_xticklabels(())\n",
    "        subplot.set_yticklabels(())\n",
    "\n",
    "        # Label the vertical axis\n",
    "        subplot.set_ylabel('Currency')\n",
    "\n",
    "        # Set the title for the subplot\n",
    "        subplot.set_title(title)\n",
    "\n",
    "        # Plot the actual data and the prediction\n",
    "        subplot.plot(y, 'b', label='actual')\n",
    "        subplot.plot(y_pred, 'r', label='predicted')\n",
    "        \n",
    "        # Shade the area between the predicted and the actual values\n",
    "        subplot.fill_between(\n",
    "            # Generate X values [0, 1, 2, ..., len(y)-2, len(y)-1]\n",
    "            np.arange(0, len(y), 1),\n",
    "            y,\n",
    "            y_pred,\n",
    "            color='r',\n",
    "            alpha=0.2\n",
    "        )\n",
    "\n",
    "        # Mark the extent of the training data\n",
    "        subplot.axvline(len(y) // 2, linestyle='--', color='0', alpha=0.2)\n",
    "\n",
    "        # Include a legend in each subplot\n",
    "        subplot.legend()\n",
    "\n",
    "    # Let matplotlib handle the subplot layout\n",
    "    fig.tight_layout()\n",
    "\n",
    "    # ==================================\n",
    "    # Display the plot in interactive UI\n",
    "    plt.show()\n",
    "\n",
    "    # To save the plot to an image file, use savefig()\n",
    "    plt.savefig('plot.png')\n",
    "\n",
    "    # Open the image file with the default image viewer\n",
    "    #import subprocess\n",
    "    #subprocess.Popen('plot.png', shell=True)\n",
    "\n",
    "    # To save the plot to an image in memory, use BytesIO and savefig()\n",
    "    # This can then be written to any stream-like object, such as a\n",
    "    # file or HTTP response.\n",
    "    #from io import BytesIO\n",
    "    #img_stream = BytesIO()\n",
    "    #plt.savefig(img_stream, fmt='png')\n",
    "    #img_bytes = img_stream.getvalue()\n",
    "    #print('Image is {} bytes - {!r}'.format(len(img_bytes), img_bytes[:8] + b'...'))\n",
    "\n",
    "    # Closing the figure allows matplotlib to release the memory used.\n",
    "    plt.close()"
   ]
  },
  {
   "cell_type": "markdown",
   "metadata": {},
   "source": [
    "## Model "
   ]
  },
  {
   "cell_type": "code",
   "execution_count": 10,
   "metadata": {},
   "outputs": [],
   "source": [
    "svr_linear = SVR(kernel='linear', C = 7, max_iter = 100)\n",
    "svr_polynomial = SVR(kernel='poly', gamma = 2000 , degree = 1 , max_iter = 80000 , C = 1)\n",
    "svr_rbf = SVR(kernel='rbf', gamma = 0.03 , epsilon = 0.007, max_iter = 2000, C = 100)"
   ]
  },
  {
   "cell_type": "markdown",
   "metadata": {},
   "source": [
    "## Results "
   ]
  },
  {
   "cell_type": "code",
   "execution_count": 11,
   "metadata": {
    "scrolled": true
   },
   "outputs": [
    {
     "name": "stdout",
     "output_type": "stream",
     "text": [
      "-----------\n",
      "SVR - Linear\n",
      "-----------\n"
     ]
    },
    {
     "name": "stderr",
     "output_type": "stream",
     "text": [
      "C:\\Users\\Mufni\\Anaconda3\\lib\\site-packages\\sklearn\\svm\\base.py:244: ConvergenceWarning: Solver terminated early (max_iter=100).  Consider pre-processing your data with StandardScaler or MinMaxScaler.\n",
      "  % self.max_iter, ConvergenceWarning)\n",
      "C:\\Users\\Mufni\\Anaconda3\\lib\\site-packages\\sklearn\\svm\\base.py:244: ConvergenceWarning: Solver terminated early (max_iter=100).  Consider pre-processing your data with StandardScaler or MinMaxScaler.\n",
      "  % self.max_iter, ConvergenceWarning)\n",
      "C:\\Users\\Mufni\\Anaconda3\\lib\\site-packages\\sklearn\\svm\\base.py:244: ConvergenceWarning: Solver terminated early (max_iter=100).  Consider pre-processing your data with StandardScaler or MinMaxScaler.\n",
      "  % self.max_iter, ConvergenceWarning)\n",
      "C:\\Users\\Mufni\\Anaconda3\\lib\\site-packages\\sklearn\\svm\\base.py:244: ConvergenceWarning: Solver terminated early (max_iter=100).  Consider pre-processing your data with StandardScaler or MinMaxScaler.\n",
      "  % self.max_iter, ConvergenceWarning)\n",
      "C:\\Users\\Mufni\\Anaconda3\\lib\\site-packages\\sklearn\\svm\\base.py:244: ConvergenceWarning: Solver terminated early (max_iter=100).  Consider pre-processing your data with StandardScaler or MinMaxScaler.\n",
      "  % self.max_iter, ConvergenceWarning)\n",
      "C:\\Users\\Mufni\\Anaconda3\\lib\\site-packages\\sklearn\\svm\\base.py:244: ConvergenceWarning: Solver terminated early (max_iter=100).  Consider pre-processing your data with StandardScaler or MinMaxScaler.\n",
      "  % self.max_iter, ConvergenceWarning)\n",
      "C:\\Users\\Mufni\\Anaconda3\\lib\\site-packages\\sklearn\\svm\\base.py:244: ConvergenceWarning: Solver terminated early (max_iter=100).  Consider pre-processing your data with StandardScaler or MinMaxScaler.\n",
      "  % self.max_iter, ConvergenceWarning)\n",
      "C:\\Users\\Mufni\\Anaconda3\\lib\\site-packages\\sklearn\\svm\\base.py:244: ConvergenceWarning: Solver terminated early (max_iter=100).  Consider pre-processing your data with StandardScaler or MinMaxScaler.\n",
      "  % self.max_iter, ConvergenceWarning)\n",
      "C:\\Users\\Mufni\\Anaconda3\\lib\\site-packages\\sklearn\\svm\\base.py:244: ConvergenceWarning: Solver terminated early (max_iter=100).  Consider pre-processing your data with StandardScaler or MinMaxScaler.\n",
      "  % self.max_iter, ConvergenceWarning)\n"
     ]
    },
    {
     "name": "stdout",
     "output_type": "stream",
     "text": [
      "RMSE train = 3.41%\n",
      "RMSE test = 1.93%\n",
      "R2 Train = 71.79%\n",
      "R2 Test = 71.79%\n",
      "Waktu Training: 0.31 detik.\n",
      "-----------\n",
      "SVR - Polynomial\n",
      "-----------\n"
     ]
    },
    {
     "name": "stderr",
     "output_type": "stream",
     "text": [
      "C:\\Users\\Mufni\\Anaconda3\\lib\\site-packages\\sklearn\\svm\\base.py:244: ConvergenceWarning: Solver terminated early (max_iter=80000).  Consider pre-processing your data with StandardScaler or MinMaxScaler.\n",
      "  % self.max_iter, ConvergenceWarning)\n",
      "C:\\Users\\Mufni\\Anaconda3\\lib\\site-packages\\sklearn\\svm\\base.py:244: ConvergenceWarning: Solver terminated early (max_iter=80000).  Consider pre-processing your data with StandardScaler or MinMaxScaler.\n",
      "  % self.max_iter, ConvergenceWarning)\n",
      "C:\\Users\\Mufni\\Anaconda3\\lib\\site-packages\\sklearn\\svm\\base.py:244: ConvergenceWarning: Solver terminated early (max_iter=80000).  Consider pre-processing your data with StandardScaler or MinMaxScaler.\n",
      "  % self.max_iter, ConvergenceWarning)\n",
      "C:\\Users\\Mufni\\Anaconda3\\lib\\site-packages\\sklearn\\svm\\base.py:244: ConvergenceWarning: Solver terminated early (max_iter=80000).  Consider pre-processing your data with StandardScaler or MinMaxScaler.\n",
      "  % self.max_iter, ConvergenceWarning)\n",
      "C:\\Users\\Mufni\\Anaconda3\\lib\\site-packages\\sklearn\\svm\\base.py:244: ConvergenceWarning: Solver terminated early (max_iter=80000).  Consider pre-processing your data with StandardScaler or MinMaxScaler.\n",
      "  % self.max_iter, ConvergenceWarning)\n",
      "C:\\Users\\Mufni\\Anaconda3\\lib\\site-packages\\sklearn\\svm\\base.py:244: ConvergenceWarning: Solver terminated early (max_iter=80000).  Consider pre-processing your data with StandardScaler or MinMaxScaler.\n",
      "  % self.max_iter, ConvergenceWarning)\n",
      "C:\\Users\\Mufni\\Anaconda3\\lib\\site-packages\\sklearn\\svm\\base.py:244: ConvergenceWarning: Solver terminated early (max_iter=80000).  Consider pre-processing your data with StandardScaler or MinMaxScaler.\n",
      "  % self.max_iter, ConvergenceWarning)\n",
      "C:\\Users\\Mufni\\Anaconda3\\lib\\site-packages\\sklearn\\svm\\base.py:244: ConvergenceWarning: Solver terminated early (max_iter=80000).  Consider pre-processing your data with StandardScaler or MinMaxScaler.\n",
      "  % self.max_iter, ConvergenceWarning)\n",
      "C:\\Users\\Mufni\\Anaconda3\\lib\\site-packages\\sklearn\\svm\\base.py:244: ConvergenceWarning: Solver terminated early (max_iter=80000).  Consider pre-processing your data with StandardScaler or MinMaxScaler.\n",
      "  % self.max_iter, ConvergenceWarning)\n"
     ]
    },
    {
     "name": "stdout",
     "output_type": "stream",
     "text": [
      "RMSE train = 4.09%\n",
      "RMSE test = 3.43%\n",
      "R2 Train = 69.69%\n",
      "R2 Test = 69.69%\n",
      "Waktu Training: 3.16 detik.\n",
      "-----------\n",
      "SVR - RBF\n",
      "-----------\n"
     ]
    },
    {
     "name": "stderr",
     "output_type": "stream",
     "text": [
      "C:\\Users\\Mufni\\Anaconda3\\lib\\site-packages\\sklearn\\svm\\base.py:244: ConvergenceWarning: Solver terminated early (max_iter=2000).  Consider pre-processing your data with StandardScaler or MinMaxScaler.\n",
      "  % self.max_iter, ConvergenceWarning)\n",
      "C:\\Users\\Mufni\\Anaconda3\\lib\\site-packages\\sklearn\\svm\\base.py:244: ConvergenceWarning: Solver terminated early (max_iter=2000).  Consider pre-processing your data with StandardScaler or MinMaxScaler.\n",
      "  % self.max_iter, ConvergenceWarning)\n",
      "C:\\Users\\Mufni\\Anaconda3\\lib\\site-packages\\sklearn\\svm\\base.py:244: ConvergenceWarning: Solver terminated early (max_iter=2000).  Consider pre-processing your data with StandardScaler or MinMaxScaler.\n",
      "  % self.max_iter, ConvergenceWarning)\n",
      "C:\\Users\\Mufni\\Anaconda3\\lib\\site-packages\\sklearn\\svm\\base.py:244: ConvergenceWarning: Solver terminated early (max_iter=2000).  Consider pre-processing your data with StandardScaler or MinMaxScaler.\n",
      "  % self.max_iter, ConvergenceWarning)\n",
      "C:\\Users\\Mufni\\Anaconda3\\lib\\site-packages\\sklearn\\svm\\base.py:244: ConvergenceWarning: Solver terminated early (max_iter=2000).  Consider pre-processing your data with StandardScaler or MinMaxScaler.\n",
      "  % self.max_iter, ConvergenceWarning)\n",
      "C:\\Users\\Mufni\\Anaconda3\\lib\\site-packages\\sklearn\\svm\\base.py:244: ConvergenceWarning: Solver terminated early (max_iter=2000).  Consider pre-processing your data with StandardScaler or MinMaxScaler.\n",
      "  % self.max_iter, ConvergenceWarning)\n",
      "C:\\Users\\Mufni\\Anaconda3\\lib\\site-packages\\sklearn\\svm\\base.py:244: ConvergenceWarning: Solver terminated early (max_iter=2000).  Consider pre-processing your data with StandardScaler or MinMaxScaler.\n",
      "  % self.max_iter, ConvergenceWarning)\n",
      "C:\\Users\\Mufni\\Anaconda3\\lib\\site-packages\\sklearn\\svm\\base.py:244: ConvergenceWarning: Solver terminated early (max_iter=2000).  Consider pre-processing your data with StandardScaler or MinMaxScaler.\n",
      "  % self.max_iter, ConvergenceWarning)\n",
      "C:\\Users\\Mufni\\Anaconda3\\lib\\site-packages\\sklearn\\svm\\base.py:244: ConvergenceWarning: Solver terminated early (max_iter=2000).  Consider pre-processing your data with StandardScaler or MinMaxScaler.\n",
      "  % self.max_iter, ConvergenceWarning)\n"
     ]
    },
    {
     "name": "stdout",
     "output_type": "stream",
     "text": [
      "RMSE train = 2.50%\n",
      "RMSE test = 1.15%\n",
      "R2 Train = 92.68%\n",
      "R2 Test = 92.68%\n",
      "Waktu Training: 4.10 detik.\n"
     ]
    },
    {
     "name": "stderr",
     "output_type": "stream",
     "text": [
      "C:\\Users\\Mufni\\Anaconda3\\lib\\site-packages\\sklearn\\svm\\base.py:244: ConvergenceWarning: Solver terminated early (max_iter=2000).  Consider pre-processing your data with StandardScaler or MinMaxScaler.\n",
      "  % self.max_iter, ConvergenceWarning)\n"
     ]
    }
   ],
   "source": [
    "results = []\n",
    "\n",
    "print ('-----------')\n",
    "print ('SVR - Linear')\n",
    "print ('-----------')\n",
    "results.append(launch_model('SVR - Linear', svr_linear, x, y, x, y))\n",
    "print ('-----------')\n",
    "print ('SVR - Polynomial')\n",
    "print ('-----------')\n",
    "results.append(launch_model('SVR - Polynomial', svr_polynomial, x, y, x, y))\n",
    "print ('-----------')\n",
    "print ('SVR - RBF')\n",
    "print ('-----------')\n",
    "results.append(launch_model('SVR - RBF', svr_rbf, x, y, x, y))"
   ]
  },
  {
   "cell_type": "code",
   "execution_count": 12,
   "metadata": {
    "scrolled": true
   },
   "outputs": [
    {
     "data": {
      "text/plain": [
       "<Figure size 576x576 with 0 Axes>"
      ]
     },
     "metadata": {},
     "output_type": "display_data"
    }
   ],
   "source": [
    "plot(results)"
   ]
  },
  {
   "cell_type": "code",
   "execution_count": null,
   "metadata": {},
   "outputs": [],
   "source": []
  }
 ],
 "metadata": {
  "kernelspec": {
   "display_name": "Python 3",
   "language": "python",
   "name": "python3"
  },
  "language_info": {
   "codemirror_mode": {
    "name": "ipython",
    "version": 3
   },
   "file_extension": ".py",
   "mimetype": "text/x-python",
   "name": "python",
   "nbconvert_exporter": "python",
   "pygments_lexer": "ipython3",
   "version": "3.7.3"
  }
 },
 "nbformat": 4,
 "nbformat_minor": 2
}
